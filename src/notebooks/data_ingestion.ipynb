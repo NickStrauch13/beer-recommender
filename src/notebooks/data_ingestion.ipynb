{
 "cells": [
  {
   "cell_type": "code",
   "execution_count": 1,
   "metadata": {},
   "outputs": [],
   "source": [
    "import pandas as pd\n",
    "import json"
   ]
  },
  {
   "cell_type": "code",
   "execution_count": 2,
   "metadata": {},
   "outputs": [],
   "source": [
    "# Read the beer review dataset into a DataFrame\n",
    "df = pd.read_csv('../../data/beer_reviews.csv')"
   ]
  },
  {
   "cell_type": "code",
   "execution_count": 11,
   "metadata": {},
   "outputs": [
    {
     "name": "stdout",
     "output_type": "stream",
     "text": [
      "722209\n"
     ]
    },
    {
     "data": {
      "text/html": [
       "<div>\n",
       "<style scoped>\n",
       "    .dataframe tbody tr th:only-of-type {\n",
       "        vertical-align: middle;\n",
       "    }\n",
       "\n",
       "    .dataframe tbody tr th {\n",
       "        vertical-align: top;\n",
       "    }\n",
       "\n",
       "    .dataframe thead th {\n",
       "        text-align: right;\n",
       "    }\n",
       "</style>\n",
       "<table border=\"1\" class=\"dataframe\">\n",
       "  <thead>\n",
       "    <tr style=\"text-align: right;\">\n",
       "      <th></th>\n",
       "      <th>brewery_id</th>\n",
       "      <th>brewery_name</th>\n",
       "      <th>review_time</th>\n",
       "      <th>review_overall</th>\n",
       "      <th>review_aroma</th>\n",
       "      <th>review_appearance</th>\n",
       "      <th>review_profilename</th>\n",
       "      <th>beer_style</th>\n",
       "      <th>review_palate</th>\n",
       "      <th>review_taste</th>\n",
       "      <th>beer_name</th>\n",
       "      <th>beer_abv</th>\n",
       "      <th>beer_beerid</th>\n",
       "    </tr>\n",
       "  </thead>\n",
       "  <tbody>\n",
       "    <tr>\n",
       "      <th>10</th>\n",
       "      <td>163</td>\n",
       "      <td>Amstel Brouwerij B. V.</td>\n",
       "      <td>1010963392</td>\n",
       "      <td>3.0</td>\n",
       "      <td>2.0</td>\n",
       "      <td>3.0</td>\n",
       "      <td>fodeeoz</td>\n",
       "      <td>Light Lager</td>\n",
       "      <td>2.5</td>\n",
       "      <td>2.5</td>\n",
       "      <td>Amstel Light</td>\n",
       "      <td>3.5</td>\n",
       "      <td>436</td>\n",
       "    </tr>\n",
       "    <tr>\n",
       "      <th>18</th>\n",
       "      <td>163</td>\n",
       "      <td>Amstel Brouwerij B. V.</td>\n",
       "      <td>1010861086</td>\n",
       "      <td>2.5</td>\n",
       "      <td>3.0</td>\n",
       "      <td>3.0</td>\n",
       "      <td>jdhilt</td>\n",
       "      <td>Light Lager</td>\n",
       "      <td>2.0</td>\n",
       "      <td>2.0</td>\n",
       "      <td>Amstel Light</td>\n",
       "      <td>3.5</td>\n",
       "      <td>436</td>\n",
       "    </tr>\n",
       "    <tr>\n",
       "      <th>30</th>\n",
       "      <td>163</td>\n",
       "      <td>Amstel Brouwerij B. V.</td>\n",
       "      <td>1002109880</td>\n",
       "      <td>3.0</td>\n",
       "      <td>2.0</td>\n",
       "      <td>2.0</td>\n",
       "      <td>xXTequila</td>\n",
       "      <td>Light Lager</td>\n",
       "      <td>2.0</td>\n",
       "      <td>3.0</td>\n",
       "      <td>Amstel Light</td>\n",
       "      <td>3.5</td>\n",
       "      <td>436</td>\n",
       "    </tr>\n",
       "    <tr>\n",
       "      <th>40</th>\n",
       "      <td>163</td>\n",
       "      <td>Amstel Brouwerij B. V.</td>\n",
       "      <td>988202869</td>\n",
       "      <td>3.0</td>\n",
       "      <td>3.0</td>\n",
       "      <td>3.0</td>\n",
       "      <td>Brent</td>\n",
       "      <td>Light Lager</td>\n",
       "      <td>2.0</td>\n",
       "      <td>2.0</td>\n",
       "      <td>Amstel Light</td>\n",
       "      <td>3.5</td>\n",
       "      <td>436</td>\n",
       "    </tr>\n",
       "    <tr>\n",
       "      <th>257</th>\n",
       "      <td>1075</td>\n",
       "      <td>Caldera Brewing Company</td>\n",
       "      <td>1272945129</td>\n",
       "      <td>4.0</td>\n",
       "      <td>4.0</td>\n",
       "      <td>4.0</td>\n",
       "      <td>Akfan</td>\n",
       "      <td>American IPA</td>\n",
       "      <td>4.0</td>\n",
       "      <td>4.5</td>\n",
       "      <td>Caldera IPA</td>\n",
       "      <td>6.1</td>\n",
       "      <td>10784</td>\n",
       "    </tr>\n",
       "  </tbody>\n",
       "</table>\n",
       "</div>"
      ],
      "text/plain": [
       "     brewery_id             brewery_name  review_time  review_overall  \\\n",
       "10          163   Amstel Brouwerij B. V.   1010963392             3.0   \n",
       "18          163   Amstel Brouwerij B. V.   1010861086             2.5   \n",
       "30          163   Amstel Brouwerij B. V.   1002109880             3.0   \n",
       "40          163   Amstel Brouwerij B. V.    988202869             3.0   \n",
       "257        1075  Caldera Brewing Company   1272945129             4.0   \n",
       "\n",
       "     review_aroma  review_appearance review_profilename    beer_style  \\\n",
       "10            2.0                3.0            fodeeoz   Light Lager   \n",
       "18            3.0                3.0             jdhilt   Light Lager   \n",
       "30            2.0                2.0          xXTequila   Light Lager   \n",
       "40            3.0                3.0              Brent   Light Lager   \n",
       "257           4.0                4.0              Akfan  American IPA   \n",
       "\n",
       "     review_palate  review_taste     beer_name  beer_abv  beer_beerid  \n",
       "10             2.5           2.5  Amstel Light       3.5          436  \n",
       "18             2.0           2.0  Amstel Light       3.5          436  \n",
       "30             2.0           3.0  Amstel Light       3.5          436  \n",
       "40             2.0           2.0  Amstel Light       3.5          436  \n",
       "257            4.0           4.5   Caldera IPA       6.1        10784  "
      ]
     },
     "metadata": {},
     "output_type": "display_data"
    }
   ],
   "source": [
    "print(len(df))\n",
    "display(df.head())"
   ]
  },
  {
   "cell_type": "code",
   "execution_count": 4,
   "metadata": {},
   "outputs": [
    {
     "name": "stdout",
     "output_type": "stream",
     "text": [
      "Total number of beers with more than 350 reviews: 964\n"
     ]
    }
   ],
   "source": [
    "# Count total number of times each beer id appears in df\n",
    "beer_counts = df['beer_beerid'].value_counts()\n",
    "\n",
    "min_reviews = 350\n",
    "print(f\"Total number of beers with more than {min_reviews} reviews: {len(beer_counts)-sum(beer_counts < min_reviews)}\")"
   ]
  },
  {
   "cell_type": "code",
   "execution_count": 5,
   "metadata": {},
   "outputs": [
    {
     "name": "stdout",
     "output_type": "stream",
     "text": [
      "Total reviews after dropping unpopular beers: 722209\n"
     ]
    }
   ],
   "source": [
    "# Drop the beers with less than 10 reviews from the df\n",
    "df = df[df['beer_beerid'].isin(beer_counts[beer_counts >= min_reviews].index)]\n",
    "print(f\"Total reviews after dropping unpopular beers: {len(df)}\")"
   ]
  },
  {
   "cell_type": "code",
   "execution_count": 7,
   "metadata": {},
   "outputs": [],
   "source": [
    "user_reviews = {}\n",
    "\n",
    "# Extract all of the reviews for each user\n",
    "for i, row in df.iterrows():\n",
    "    user = row['review_profilename']\n",
    "    beerid = row['beer_beerid']\n",
    "    review = row['review_overall']\n",
    "    if user and user not in user_reviews:\n",
    "        user_reviews[user] = {}\n",
    "    user_reviews[user][beerid] = review\n",
    "\n",
    "# Save to json\n",
    "with open('../../data/user_reviews.json', 'w') as f:\n",
    "    json.dump(user_reviews, f)\n"
   ]
  },
  {
   "cell_type": "code",
   "execution_count": 8,
   "metadata": {},
   "outputs": [
    {
     "name": "stdout",
     "output_type": "stream",
     "text": [
      "[5, 6, 7, 10, 17, 19, 30, 31, 33, 34, 36, 39, 58, 59, 61, 63, 65, 73, 74, 79, 83, 85, 87, 88, 90, 92, 96, 99, 100, 101, 102, 103, 104, 108, 111, 115, 117, 129, 131, 132, 133, 134, 135, 138, 139, 140, 141, 142, 146, 147, 148, 155, 156, 159, 171, 184, 185, 186, 195, 197, 198, 199, 204, 205, 206, 213, 214, 217, 219, 221, 222, 224, 225, 226, 228, 229, 232, 234, 236, 243, 245, 246, 248, 262, 263, 270, 273, 276, 279, 280, 282, 283, 293, 296, 298, 299, 310, 311, 313, 314, 318, 321, 332, 353, 354, 355, 356, 358, 361, 363, 386, 387, 388, 402, 403, 408, 409, 410, 411, 412, 429, 431, 434, 436, 438, 448, 449, 459, 560, 567, 570, 571, 572, 573, 575, 576, 577, 580, 582, 593, 598, 599, 600, 607, 611, 615, 620, 622, 623, 626, 631, 635, 637, 639, 641, 643, 645, 646, 650, 652, 656, 658, 665, 667, 670, 672, 673, 674, 680, 689, 693, 694, 695, 700, 702, 703, 705, 706, 709, 712, 717, 718, 722, 727, 731, 751, 752, 754, 759, 760, 767, 772, 773, 776, 779, 782, 788, 793, 794, 808, 811, 813, 817, 832, 833, 836, 837, 838, 846, 848, 857, 862, 867, 871, 875, 902, 903, 906, 909, 914, 916, 918, 924, 926, 927, 935, 942, 945, 976, 1003, 1005, 1008, 1009, 1010, 1012, 1013, 1015, 1017, 1053, 1054, 1056, 1079, 1090, 1093, 1094, 1115, 1116, 1117, 1118, 1119, 1120, 1128, 1153, 1157, 1158, 1159, 1160, 1161, 1163, 1169, 1171, 1173, 1180, 1186, 1192, 1193, 1206, 1212, 1213, 1230, 1237, 1249, 1251, 1252, 1256, 1260, 1262, 1275, 1276, 1283, 1287, 1309, 1312, 1314, 1320, 1321, 1324, 1331, 1339, 1341, 1346, 1351, 1352, 1361, 1371, 1372, 1373, 1374, 1376, 1381, 1385, 1390, 1397, 1402, 1421, 1426, 1441, 1444, 1445, 1446, 1464, 1472, 1483, 1490, 1493, 1496, 1503, 1504, 1520, 1524, 1543, 1544, 1545, 1550, 1552, 1558, 1566, 1567, 1575, 1576, 1577, 1579, 1581, 1585, 1587, 1597, 1602, 1607, 1608, 1611, 1622, 1630, 1631, 1632, 1635, 1641, 1655, 1657, 1658, 1670, 1672, 1696, 1703, 1708, 1710, 1716, 1717, 1741, 1745, 1751, 1769, 1774, 1790, 1792, 1798, 1808, 1826, 1830, 1836, 1855, 1856, 1862, 1867, 1879, 1881, 1882, 1889, 1891, 1903, 1904, 1907, 1912, 1914, 1917, 1924, 1932, 1934, 1944, 1946, 1956, 1963, 1965, 1999, 2010, 2011, 2013, 2014, 2040, 2041, 2081, 2093, 2094, 2128, 2131, 2137, 2151, 2178, 2184, 2231, 2232, 2249, 2264, 2269, 2270, 2280, 2296, 2297, 2318, 2319, 2347, 2354, 2392, 2403, 2409, 2430, 2434, 2435, 2442, 2477, 2479, 2508, 2511, 2512, 2526, 2533, 2550, 2557, 2566, 2619, 2654, 2656, 2671, 2678, 2684, 2704, 2729, 2732, 2751, 2755, 2758, 2766, 2779, 2870, 2894, 2904, 2948, 2958, 2961, 2965, 2967, 3062, 3089, 3128, 3158, 3280, 3295, 3338, 3434, 3439, 3457, 3523, 3558, 3635, 3677, 3711, 3734, 3824, 3833, 3842, 3877, 3916, 3951, 3960, 3968, 3970, 4041, 4072, 4073, 4083, 4108, 4109, 4202, 4312, 4318, 4394, 4694, 4810, 4847, 4902, 4970, 5045, 5057, 5096, 5328, 5385, 5423, 5428, 5441, 5488, 5554, 5643, 5653, 5722, 5753, 5757, 5948, 6073, 6076, 6088, 6104, 6108, 6227, 6260, 6301, 6305, 6314, 6317, 6322, 6368, 6371, 6373, 6518, 6533, 6549, 6590, 6646, 6715, 6861, 6947, 7284, 7286, 7313, 7348, 7435, 7438, 7463, 7520, 7531, 7560, 7597, 7712, 7850, 7879, 7971, 8023, 8045, 8297, 8312, 8322, 8682, 8919, 8951, 8954, 8998, 9086, 9088, 9171, 9182, 9353, 9474, 9478, 9689, 9755, 9873, 9900, 10071, 10325, 10330, 10433, 10482, 10672, 10683, 10784, 11582, 11757, 11784, 11819, 11922, 12013, 12104, 12322, 12694, 12719, 12770, 13637, 13741, 13742, 13896, 13906, 14309, 14368, 14712, 14916, 15216, 15589, 15619, 15813, 15881, 15989, 16074, 16376, 16400, 16403, 16471, 16506, 16509, 16520, 16655, 16807, 16814, 16858, 16909, 17060, 17112, 17141, 17492, 17497, 17538, 17625, 17900, 18198, 18199, 18305, 18421, 18721, 18850, 18862, 18975, 19216, 19306, 19314, 19425, 19426, 19589, 19651, 19667, 19960, 20168, 20216, 20232, 20445, 20470, 20478, 20518, 20536, 20539, 20564, 20604, 20732, 20762, 20781, 20807, 20897, 20931, 21100, 21300, 21466, 21690, 21804, 21822, 21950, 22042, 22189, 22227, 22343, 22352, 22381, 22387, 22484, 22505, 22527, 22790, 23030, 23042, 23506, 23713, 23942, 24042, 24071, 24259, 24357, 24905, 25005, 25259, 25265, 25435, 25608, 25649, 25755, 25759, 25852, 25880, 25989, 26049, 26072, 26159, 26233, 26234, 26277, 26395, 26542, 26667, 27249, 27286, 27354, 27514, 27604, 27800, 27804, 27837, 27857, 27992, 28039, 28165, 28176, 28203, 28204, 28248, 28305, 28318, 28536, 28577, 28578, 28877, 29015, 29078, 29209, 29602, 29619, 30282, 30288, 30420, 30502, 30538, 30764, 30845, 30970, 31323, 31613, 32180, 32286, 32360, 32413, 32435, 32437, 32575, 32631, 32695, 33127, 33183, 33200, 33243, 33336, 33467, 33644, 33832, 34069, 34085, 34094, 34146, 34203, 34306, 34420, 34483, 34484, 34688, 34804, 34850, 34877, 35036, 35246, 35284, 35328, 35397, 35625, 35626, 35720, 35732, 35735, 35738, 35754, 36010, 36179, 36185, 36195, 36333, 36378, 36672, 36692, 36727, 37112, 37197, 37326, 37477, 37586, 37774, 38180, 38334, 38365, 38394, 38470, 38530, 38591, 38818, 39286, 39390, 39435, 39441, 39621, 39639, 39908, 40051, 40057, 40058, 40149, 40418, 40443, 40492, 40674, 41043, 41121, 41626, 41702, 41815, 41821, 42075, 42296, 42353, 42434, 42533, 42546, 42723, 43118, 43341, 43491, 43687, 43738, 43903, 43905, 43969, 44138, 44283, 44706, 44755, 44932, 45073, 45086, 45537, 45653, 45765, 45844, 46070, 46290, 46363, 46385, 46767, 46849, 46983, 46987, 47022, 47026, 47151, 47228, 47317, 47360, 47364, 47434, 47658, 47678, 47692, 47695, 47731, 47785, 48050, 48139, 48190, 48224, 48243, 48385, 48434, 48505, 48582, 48824, 48911, 49016, 49058, 49092, 49122, 49286, 49472, 49789, 49838, 50081, 50176, 50570, 50697, 50795, 50846, 51257, 51480, 51991, 52128, 52361, 52441, 52510, 52531, 52633, 52704, 52855, 53167, 53388, 53886, 54089, 54904, 55081, 55243, 55342, 55397, 55412, 55732, 55900, 55939, 56469, 56613, 56761, 56875, 56973, 57252, 57747, 57908, 57912, 58048, 58695, 59151, 59369, 60078, 60420, 60474, 60511, 62254, 62328, 62645, 63152, 63224, 63989, 64089, 64228, 66281, 67106, 67219, 69363, 71405, 72138, 74986]\n"
     ]
    }
   ],
   "source": [
    "unique_beers = df['beer_beerid'].unique()\n",
    "unique_beers = sorted(unique_beers)\n",
    "print(unique_beers)\n",
    "\n",
    "# Create beer id map to index\n",
    "beer_id_map = {}\n",
    "for i, beer_id in enumerate(unique_beers):\n",
    "    beer_id_map[int(beer_id)] = i\n",
    "\n",
    "# Save to json for shared used\n",
    "with open('../../data/beerid_to_index_map.json', 'w') as f:\n",
    "    json.dump(beer_id_map, f)"
   ]
  },
  {
   "cell_type": "code",
   "execution_count": 9,
   "metadata": {},
   "outputs": [
    {
     "name": "stdout",
     "output_type": "stream",
     "text": [
      "Total number of beers: 964\n"
     ]
    }
   ],
   "source": [
    "user_data = {}\n",
    "total_beers = len(unique_beers)\n",
    "print(f\"Total number of beers: {total_beers}\")\n",
    "\n",
    "# For each user, save their review vector to a json file\n",
    "for user, reviews in user_reviews.items():\n",
    "    review_vector = [0] * total_beers\n",
    "    for beer_id, review in reviews.items():\n",
    "        review_vector[beer_id_map[beer_id]] = review\n",
    "\n",
    "    user_data[user] = review_vector\n",
    "\n",
    "# Save to json\n",
    "with open('../../data/user_review_vectors.json', 'w') as f:\n",
    "    json.dump(user_data, f)\n",
    "\n",
    "    "
   ]
  },
  {
   "cell_type": "code",
   "execution_count": 10,
   "metadata": {},
   "outputs": [
    {
     "name": "stdout",
     "output_type": "stream",
     "text": [
      "Total number of breweries: 253\n"
     ]
    }
   ],
   "source": [
    "# Count unique breweries after dropping unpopular beers\n",
    "unique_breweries = df['brewery_id'].unique()\n",
    "print(f\"Total number of breweries: {len(unique_breweries)}\")\n"
   ]
  },
  {
   "cell_type": "code",
   "execution_count": null,
   "metadata": {},
   "outputs": [],
   "source": []
  }
 ],
 "metadata": {
  "kernelspec": {
   "display_name": "venv",
   "language": "python",
   "name": "python3"
  },
  "language_info": {
   "codemirror_mode": {
    "name": "ipython",
    "version": 3
   },
   "file_extension": ".py",
   "mimetype": "text/x-python",
   "name": "python",
   "nbconvert_exporter": "python",
   "pygments_lexer": "ipython3",
   "version": "3.9.12"
  }
 },
 "nbformat": 4,
 "nbformat_minor": 2
}
