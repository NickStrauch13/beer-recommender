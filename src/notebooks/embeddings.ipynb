{
 "cells": [
  {
   "cell_type": "code",
   "execution_count": 2,
   "metadata": {},
   "outputs": [
    {
     "name": "stdout",
     "output_type": "stream",
     "text": [
      "Total reviews after dropping unpopular beers: 1456620\n"
     ]
    }
   ],
   "source": [
    "import pandas as pd\n",
    "import json\n",
    "# Read the beer review dataset into a DataFrame\n",
    "df = pd.read_csv('../../data/beer_reviews.csv')\n",
    "\n",
    "beer_counts = df['beer_beerid'].value_counts()\n",
    "# Drop the beers with less than 10 reviews from the df\n",
    "df = df[df['beer_beerid'].isin(beer_counts[beer_counts >= 10].index)]\n",
    "print(f\"Total reviews after dropping unpopular beers: {len(df)}\")\n"
   ]
  },
  {
   "cell_type": "code",
   "execution_count": 15,
   "metadata": {},
   "outputs": [
    {
     "name": "stdout",
     "output_type": "stream",
     "text": [
      "{'fodeeoz': \"Amstel Light IS OK Heineken Lager Beer IS OK Sierra Nevada Pale Ale IS GOOD Sierra Nevada Wheat Beer IS OK Sweetwater 420 Extra Pale Ale IS GREAT Tetley's English Ale IS GREAT Kingfisher Premium Lager IS OK Tire Bite Golden Ale IS OK Doggie Style Classic Pale Ale IS GOOD Road Dog Porter IS GOOD Snake Dog IPA IS GOOD K-9 Cruiser Winter Ale IS GOOD Samuel Adams Boston Lager IS GOOD Samuel Adams Pale Ale IS GREAT Samuel Adams Boston Ale (Stock Ale) IS OK Samuel Adams Winter Lager IS GOOD Pabst Blue Ribbon (PBR) IS GOOD Keystone Light IS GOOD Coors Light IS GOOD Coors IS GREAT Fischer Bitter IS OK Dogwood Pale Ale IS GOOD Dogwood Summer Brew IS GOOD Dead Guy Ale IS GREAT Mocha Porter IS OK Hazelnut Brown Nectar IS GREAT Shakespeare Oatmeal Stout IS GREAT Veltins Pilsner IS OK Samuel Smith's Pure Brewed Lager Beer IS GOOD Samuel Smith's, The Famous Taddy Porter IS GOOD Samuel Smith's Imperial Stout IS GREAT Carnegie Porter 5,5% IS GREAT Pete's Wicked Helles Lager IS OK Pete's Wicked Strawberry Blonde IS BAD Pete's Wicked Winter Brew IS OK Rolling Rock Extra Pale IS BAD Harpoon Ale IS GOOD Harpoon Pilsner IS GOOD Harpoon IPA IS GOOD Harpoon Celtic Ale IS OK Tennent's Lager IS OK Aass Bock IS OK Belhaven Scottish Ale IS GOOD Corona Extra IS OK Sapporo Original Draft Beer IS OK Milwaukee's Best Premium IS OK Red Dog IS OK Miller Lite IS OK Icehouse IS OK Fuller's ESB IS GOOD Original Badebier IS GOOD Red Brick Pale Ale IS GOOD Red Brick Brown Ale IS OK Guinness Draught IS GOOD St. Pauli Girl IS OK Whitbread Pale Ale IS GOOD Bud Ice IS OK Bud Light IS GOOD Aruba Red IS GOOD Brew Masters Private Reserve IS GOOD Budweiser IS GOOD Anchor Liberty Ale IS GOOD Foster's Lager IS OK Foster's Special Bitter IS GOOD Redhook Blonde IS GREAT Duckstein Ale IS GOOD St. Peter's Golden Ale IS OK Paulaner Original Münchner IS GREAT Paulaner Oktoberfest-Märzen IS GOOD Yuengling Traditional Lager IS GOOD Dixie IS GOOD Newcastle Brown Ale IS OK \"}\n"
     ]
    }
   ],
   "source": [
    "# get all user ids\n",
    "user_ids = df['review_profilename'].unique()\n",
    "\n",
    "\n",
    "user_id_to_string = {}\n",
    "for user_id in user_ids:\n",
    "    string = \"\"\n",
    "    user_reviews = df[df['review_profilename'] == user_id]\n",
    "    \n",
    "    for index, row in user_reviews.iterrows():\n",
    "        review_overall = row['review_overall']\n",
    "        str_to_add = ''\n",
    "        if review_overall <= 1:\n",
    "            str_to_add = 'IS TERRIBLE'\n",
    "        elif review_overall <= 2:\n",
    "            str_to_add = 'IS BAD'\n",
    "        elif review_overall <= 3:\n",
    "            str_to_add = 'IS OK'\n",
    "        elif review_overall <= 4:\n",
    "            str_to_add = 'IS GOOD'\n",
    "        else:\n",
    "            str_to_add = 'IS GREAT'\n",
    "        string += str(row['beer_name']) + \" \" + str_to_add + \" \"\n",
    "\n",
    "    user_id_to_string[user_id] = string\n",
    "    break\n",
    "print(user_id_to_string)\n"
   ]
  },
  {
   "cell_type": "code",
   "execution_count": null,
   "metadata": {},
   "outputs": [],
   "source": []
  }
 ],
 "metadata": {
  "kernelspec": {
   "display_name": "venv",
   "language": "python",
   "name": "python3"
  },
  "language_info": {
   "codemirror_mode": {
    "name": "ipython",
    "version": 3
   },
   "file_extension": ".py",
   "mimetype": "text/x-python",
   "name": "python",
   "nbconvert_exporter": "python",
   "pygments_lexer": "ipython3",
   "version": "3.9.6"
  }
 },
 "nbformat": 4,
 "nbformat_minor": 2
}
