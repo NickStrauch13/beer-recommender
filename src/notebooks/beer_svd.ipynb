{
  "cells": [
    {
      "cell_type": "markdown",
      "metadata": {
        "colab_type": "text",
        "id": "view-in-github"
      },
      "source": [
        "<a href=\"https://colab.research.google.com/github/NickStrauch13/beverage-recommender/blob/tom/beer_svd.ipynb\" target=\"_parent\"><img src=\"https://colab.research.google.com/assets/colab-badge.svg\" alt=\"Open In Colab\"/></a>"
      ]
    },
    {
      "cell_type": "code",
      "execution_count": 1,
      "metadata": {
        "id": "Xm6gGxQuFk5L"
      },
      "outputs": [],
      "source": [
        "! pip install -q kaggle"
      ]
    },
    {
      "cell_type": "code",
      "execution_count": 18,
      "metadata": {
        "colab": {
          "base_uri": "https://localhost:8080/",
          "height": 92
        },
        "id": "QloZVfvbFzm6",
        "outputId": "eaa967dd-0a86-43ac-c736-f0623d174a24"
      },
      "outputs": [
        {
          "data": {
            "text/html": [
              "\n",
              "     <input type=\"file\" id=\"files-034fbb10-844b-4d19-9951-0b47ea64982a\" name=\"files[]\" multiple disabled\n",
              "        style=\"border:none\" />\n",
              "     <output id=\"result-034fbb10-844b-4d19-9951-0b47ea64982a\">\n",
              "      Upload widget is only available when the cell has been executed in the\n",
              "      current browser session. Please rerun this cell to enable.\n",
              "      </output>\n",
              "      <script>// Copyright 2017 Google LLC\n",
              "//\n",
              "// Licensed under the Apache License, Version 2.0 (the \"License\");\n",
              "// you may not use this file except in compliance with the License.\n",
              "// You may obtain a copy of the License at\n",
              "//\n",
              "//      http://www.apache.org/licenses/LICENSE-2.0\n",
              "//\n",
              "// Unless required by applicable law or agreed to in writing, software\n",
              "// distributed under the License is distributed on an \"AS IS\" BASIS,\n",
              "// WITHOUT WARRANTIES OR CONDITIONS OF ANY KIND, either express or implied.\n",
              "// See the License for the specific language governing permissions and\n",
              "// limitations under the License.\n",
              "\n",
              "/**\n",
              " * @fileoverview Helpers for google.colab Python module.\n",
              " */\n",
              "(function(scope) {\n",
              "function span(text, styleAttributes = {}) {\n",
              "  const element = document.createElement('span');\n",
              "  element.textContent = text;\n",
              "  for (const key of Object.keys(styleAttributes)) {\n",
              "    element.style[key] = styleAttributes[key];\n",
              "  }\n",
              "  return element;\n",
              "}\n",
              "\n",
              "// Max number of bytes which will be uploaded at a time.\n",
              "const MAX_PAYLOAD_SIZE = 100 * 1024;\n",
              "\n",
              "function _uploadFiles(inputId, outputId) {\n",
              "  const steps = uploadFilesStep(inputId, outputId);\n",
              "  const outputElement = document.getElementById(outputId);\n",
              "  // Cache steps on the outputElement to make it available for the next call\n",
              "  // to uploadFilesContinue from Python.\n",
              "  outputElement.steps = steps;\n",
              "\n",
              "  return _uploadFilesContinue(outputId);\n",
              "}\n",
              "\n",
              "// This is roughly an async generator (not supported in the browser yet),\n",
              "// where there are multiple asynchronous steps and the Python side is going\n",
              "// to poll for completion of each step.\n",
              "// This uses a Promise to block the python side on completion of each step,\n",
              "// then passes the result of the previous step as the input to the next step.\n",
              "function _uploadFilesContinue(outputId) {\n",
              "  const outputElement = document.getElementById(outputId);\n",
              "  const steps = outputElement.steps;\n",
              "\n",
              "  const next = steps.next(outputElement.lastPromiseValue);\n",
              "  return Promise.resolve(next.value.promise).then((value) => {\n",
              "    // Cache the last promise value to make it available to the next\n",
              "    // step of the generator.\n",
              "    outputElement.lastPromiseValue = value;\n",
              "    return next.value.response;\n",
              "  });\n",
              "}\n",
              "\n",
              "/**\n",
              " * Generator function which is called between each async step of the upload\n",
              " * process.\n",
              " * @param {string} inputId Element ID of the input file picker element.\n",
              " * @param {string} outputId Element ID of the output display.\n",
              " * @return {!Iterable<!Object>} Iterable of next steps.\n",
              " */\n",
              "function* uploadFilesStep(inputId, outputId) {\n",
              "  const inputElement = document.getElementById(inputId);\n",
              "  inputElement.disabled = false;\n",
              "\n",
              "  const outputElement = document.getElementById(outputId);\n",
              "  outputElement.innerHTML = '';\n",
              "\n",
              "  const pickedPromise = new Promise((resolve) => {\n",
              "    inputElement.addEventListener('change', (e) => {\n",
              "      resolve(e.target.files);\n",
              "    });\n",
              "  });\n",
              "\n",
              "  const cancel = document.createElement('button');\n",
              "  inputElement.parentElement.appendChild(cancel);\n",
              "  cancel.textContent = 'Cancel upload';\n",
              "  const cancelPromise = new Promise((resolve) => {\n",
              "    cancel.onclick = () => {\n",
              "      resolve(null);\n",
              "    };\n",
              "  });\n",
              "\n",
              "  // Wait for the user to pick the files.\n",
              "  const files = yield {\n",
              "    promise: Promise.race([pickedPromise, cancelPromise]),\n",
              "    response: {\n",
              "      action: 'starting',\n",
              "    }\n",
              "  };\n",
              "\n",
              "  cancel.remove();\n",
              "\n",
              "  // Disable the input element since further picks are not allowed.\n",
              "  inputElement.disabled = true;\n",
              "\n",
              "  if (!files) {\n",
              "    return {\n",
              "      response: {\n",
              "        action: 'complete',\n",
              "      }\n",
              "    };\n",
              "  }\n",
              "\n",
              "  for (const file of files) {\n",
              "    const li = document.createElement('li');\n",
              "    li.append(span(file.name, {fontWeight: 'bold'}));\n",
              "    li.append(span(\n",
              "        `(${file.type || 'n/a'}) - ${file.size} bytes, ` +\n",
              "        `last modified: ${\n",
              "            file.lastModifiedDate ? file.lastModifiedDate.toLocaleDateString() :\n",
              "                                    'n/a'} - `));\n",
              "    const percent = span('0% done');\n",
              "    li.appendChild(percent);\n",
              "\n",
              "    outputElement.appendChild(li);\n",
              "\n",
              "    const fileDataPromise = new Promise((resolve) => {\n",
              "      const reader = new FileReader();\n",
              "      reader.onload = (e) => {\n",
              "        resolve(e.target.result);\n",
              "      };\n",
              "      reader.readAsArrayBuffer(file);\n",
              "    });\n",
              "    // Wait for the data to be ready.\n",
              "    let fileData = yield {\n",
              "      promise: fileDataPromise,\n",
              "      response: {\n",
              "        action: 'continue',\n",
              "      }\n",
              "    };\n",
              "\n",
              "    // Use a chunked sending to avoid message size limits. See b/62115660.\n",
              "    let position = 0;\n",
              "    do {\n",
              "      const length = Math.min(fileData.byteLength - position, MAX_PAYLOAD_SIZE);\n",
              "      const chunk = new Uint8Array(fileData, position, length);\n",
              "      position += length;\n",
              "\n",
              "      const base64 = btoa(String.fromCharCode.apply(null, chunk));\n",
              "      yield {\n",
              "        response: {\n",
              "          action: 'append',\n",
              "          file: file.name,\n",
              "          data: base64,\n",
              "        },\n",
              "      };\n",
              "\n",
              "      let percentDone = fileData.byteLength === 0 ?\n",
              "          100 :\n",
              "          Math.round((position / fileData.byteLength) * 100);\n",
              "      percent.textContent = `${percentDone}% done`;\n",
              "\n",
              "    } while (position < fileData.byteLength);\n",
              "  }\n",
              "\n",
              "  // All done.\n",
              "  yield {\n",
              "    response: {\n",
              "      action: 'complete',\n",
              "    }\n",
              "  };\n",
              "}\n",
              "\n",
              "scope.google = scope.google || {};\n",
              "scope.google.colab = scope.google.colab || {};\n",
              "scope.google.colab._files = {\n",
              "  _uploadFiles,\n",
              "  _uploadFilesContinue,\n",
              "};\n",
              "})(self);\n",
              "</script> "
            ],
            "text/plain": [
              "<IPython.core.display.HTML object>"
            ]
          },
          "metadata": {},
          "output_type": "display_data"
        },
        {
          "name": "stdout",
          "output_type": "stream",
          "text": [
            "Saving kaggle.json to kaggle (1).json\n",
            "files done\n"
          ]
        }
      ],
      "source": [
        "from google.colab import files\n",
        "\n",
        "files.upload()\n",
        "print(\"files done\")"
      ]
    },
    {
      "cell_type": "code",
      "execution_count": 3,
      "metadata": {
        "id": "JD3iDYcIF7zW"
      },
      "outputs": [],
      "source": [
        "! mkdir ~/.kaggle\n",
        "\n",
        "! cp kaggle.json ~/.kaggle/"
      ]
    },
    {
      "cell_type": "code",
      "execution_count": 4,
      "metadata": {
        "id": "N3LJtD1dGB3s"
      },
      "outputs": [],
      "source": [
        "! chmod 600 ~/.kaggle/kaggle.json"
      ]
    },
    {
      "cell_type": "code",
      "execution_count": 5,
      "metadata": {
        "colab": {
          "base_uri": "https://localhost:8080/"
        },
        "id": "fG2eq2AAGGg-",
        "outputId": "6c6c3fde-6a04-449a-c952-fa413cb9603f"
      },
      "outputs": [
        {
          "name": "stdout",
          "output_type": "stream",
          "text": [
            "Warning: Looks like you're using an outdated API Version, please consider updating (server 1.6.11 / client 1.5.16)\n",
            "ref                                                         title                                           size  lastUpdated          downloadCount  voteCount  usabilityRating  \n",
            "----------------------------------------------------------  ---------------------------------------------  -----  -------------------  -------------  ---------  ---------------  \n",
            "sudarshan24byte/online-food-dataset                         Online Food Dataset                              3KB  2024-03-02 18:50:30          24254        484  0.9411765        \n",
            "bhavikjikadara/student-study-performance                    Student Study Performance                        9KB  2024-03-07 06:14:09          12001        154  1.0              \n",
            "sukhmandeepsinghbrar/housing-price-dataset                  Housing Price Dataset                          780KB  2024-04-04 19:45:43           1436         28  1.0              \n",
            "muhammadkashif724/netflix-tv-shows-2021                     Netflix TV Shows 2021                          384KB  2024-04-04 06:38:21           1289         33  0.9411765        \n",
            "sahilnbajaj/loans-data                                      Loans Data                                     213KB  2024-04-07 15:08:37            968         26  1.0              \n",
            "sahirmaharajj/air-pollution-dataset                         Air Pollution Dataset                          213KB  2024-04-07 13:14:48           1076         31  1.0              \n",
            "nbroad/gemma-rewrite-nbroad                                 gemma-rewrite-nbroad                             8MB  2024-03-03 04:52:39           1532         98  1.0              \n",
            "mohdshahnawazaadil/credit-card-dataset                      Credit Card Dataset                             66MB  2024-04-02 00:04:05            791         22  1.0              \n",
            "fatemehmehrparvar/obesity-levels                            Obesity Levels                                  58KB  2024-04-07 16:28:30           1204         36  0.88235295       \n",
            "sanyamgoyal401/customer-purchases-behaviour-dataset         Customer Purchases Behaviour Dataset             1MB  2024-04-06 18:42:01           1210         32  1.0              \n",
            "muhammadibrahimqasmi/stock-prices-for-meta-ticker-symbol    Stock Prices for META Ticker Symbol             11KB  2024-04-09 17:24:08            273         28  1.0              \n",
            "sahirmaharajj/electric-vehicle-population-size-2024         Electric Vehicle Population by Country (2024)  275KB  2024-03-30 19:16:06           2024         50  1.0              \n",
            "jatinthakur706/population-growth-in-india-1950-2024         Population Growth in India 1950-2024             1KB  2024-04-05 07:06:32            332         21  1.0              \n",
            "mexwell/drug-consumption-classification                     💊 Drug Consumption Classification               56KB  2024-03-28 15:02:22           2328         43  1.0              \n",
            "startalks/pii-models                                        pii-models                                       1GB  2024-03-21 21:23:40             95         17  1.0              \n",
            "sahirmaharajj/retail-sales-analysis                         Retail Sales Analysis                            6MB  2024-03-31 15:37:11           1629         37  1.0              \n",
            "jatinthakur706/most-watched-netflix-original-shows-tv-time  Most watched Netflix original shows (TV Time)    2KB  2024-03-27 09:01:21           2776         47  1.0              \n",
            "alistairking/electricity-prices                             U.S. Electricity Prices                          1MB  2024-04-07 19:18:37            798         23  1.0              \n",
            "tanmay43sharma/goodreads-popular-books-dataset              Popular Books Dataset                          130KB  2024-03-28 09:44:18           1089         25  0.9411765        \n",
            "datascientist97/e-commerece-sales-data-2024                 E-commerece Sales Data 2024                      6MB  2024-04-05 12:32:58            951         28  1.0              \n"
          ]
        }
      ],
      "source": [
        "! kaggle datasets list"
      ]
    },
    {
      "cell_type": "code",
      "execution_count": 6,
      "metadata": {
        "colab": {
          "base_uri": "https://localhost:8080/"
        },
        "id": "7MUp3-u4G8Zb",
        "outputId": "189254b4-ce16-4f4f-9a14-bcd3ae5ad5e2"
      },
      "outputs": [
        {
          "name": "stdout",
          "output_type": "stream",
          "text": [
            "Downloading beerreviews.zip to /content\n",
            "100% 27.4M/27.4M [00:00<00:00, 43.9MB/s]\n",
            "100% 27.4M/27.4M [00:00<00:00, 47.8MB/s]\n"
          ]
        }
      ],
      "source": [
        "!kaggle datasets download -d rdoume/beerreviews"
      ]
    },
    {
      "cell_type": "code",
      "execution_count": 8,
      "metadata": {
        "colab": {
          "base_uri": "https://localhost:8080/"
        },
        "id": "qNIOxOPLHJL3",
        "outputId": "e2a7bec4-2852-4269-de65-ff222c745291"
      },
      "outputs": [
        {
          "name": "stdout",
          "output_type": "stream",
          "text": [
            "beerreviews.zip  kaggle.json  sample_data\n"
          ]
        }
      ],
      "source": [
        "!ls"
      ]
    },
    {
      "cell_type": "code",
      "execution_count": 7,
      "metadata": {
        "colab": {
          "base_uri": "https://localhost:8080/"
        },
        "id": "KWLeB7zjHOmW",
        "outputId": "78799dd7-57bb-4af7-9202-644a7903c741"
      },
      "outputs": [
        {
          "name": "stdout",
          "output_type": "stream",
          "text": [
            "Archive:  beerreviews.zip\n",
            "  inflating: beer_reviews.csv        \n"
          ]
        }
      ],
      "source": [
        "!unzip beerreviews.zip"
      ]
    },
    {
      "cell_type": "code",
      "execution_count": 2,
      "metadata": {
        "id": "e11UwlyaHR8R"
      },
      "outputs": [],
      "source": [
        "import pandas as pd\n",
        "df = pd.read_csv('../../data/beer_reviews.csv')"
      ]
    },
    {
      "cell_type": "code",
      "execution_count": 11,
      "metadata": {
        "colab": {
          "base_uri": "https://localhost:8080/",
          "height": 330
        },
        "id": "jDY_MyPgHf9i",
        "outputId": "a0b3b3b2-8391-42a4-cc3e-3597d9b094b1"
      },
      "outputs": [
        {
          "data": {
            "application/vnd.google.colaboratory.intrinsic+json": {
              "type": "dataframe",
              "variable_name": "df"
            },
            "text/html": [
              "\n",
              "  <div id=\"df-3747978d-1f29-4326-b2e6-00200bf9d08d\" class=\"colab-df-container\">\n",
              "    <div>\n",
              "<style scoped>\n",
              "    .dataframe tbody tr th:only-of-type {\n",
              "        vertical-align: middle;\n",
              "    }\n",
              "\n",
              "    .dataframe tbody tr th {\n",
              "        vertical-align: top;\n",
              "    }\n",
              "\n",
              "    .dataframe thead th {\n",
              "        text-align: right;\n",
              "    }\n",
              "</style>\n",
              "<table border=\"1\" class=\"dataframe\">\n",
              "  <thead>\n",
              "    <tr style=\"text-align: right;\">\n",
              "      <th></th>\n",
              "      <th>brewery_id</th>\n",
              "      <th>brewery_name</th>\n",
              "      <th>review_time</th>\n",
              "      <th>review_overall</th>\n",
              "      <th>review_aroma</th>\n",
              "      <th>review_appearance</th>\n",
              "      <th>review_profilename</th>\n",
              "      <th>beer_style</th>\n",
              "      <th>review_palate</th>\n",
              "      <th>review_taste</th>\n",
              "      <th>beer_name</th>\n",
              "      <th>beer_abv</th>\n",
              "      <th>beer_beerid</th>\n",
              "    </tr>\n",
              "  </thead>\n",
              "  <tbody>\n",
              "    <tr>\n",
              "      <th>0</th>\n",
              "      <td>10325</td>\n",
              "      <td>Vecchio Birraio</td>\n",
              "      <td>1234817823</td>\n",
              "      <td>1.5</td>\n",
              "      <td>2.0</td>\n",
              "      <td>2.5</td>\n",
              "      <td>stcules</td>\n",
              "      <td>Hefeweizen</td>\n",
              "      <td>1.5</td>\n",
              "      <td>1.5</td>\n",
              "      <td>Sausa Weizen</td>\n",
              "      <td>5.0</td>\n",
              "      <td>47986</td>\n",
              "    </tr>\n",
              "    <tr>\n",
              "      <th>1</th>\n",
              "      <td>10325</td>\n",
              "      <td>Vecchio Birraio</td>\n",
              "      <td>1235915097</td>\n",
              "      <td>3.0</td>\n",
              "      <td>2.5</td>\n",
              "      <td>3.0</td>\n",
              "      <td>stcules</td>\n",
              "      <td>English Strong Ale</td>\n",
              "      <td>3.0</td>\n",
              "      <td>3.0</td>\n",
              "      <td>Red Moon</td>\n",
              "      <td>6.2</td>\n",
              "      <td>48213</td>\n",
              "    </tr>\n",
              "    <tr>\n",
              "      <th>2</th>\n",
              "      <td>10325</td>\n",
              "      <td>Vecchio Birraio</td>\n",
              "      <td>1235916604</td>\n",
              "      <td>3.0</td>\n",
              "      <td>2.5</td>\n",
              "      <td>3.0</td>\n",
              "      <td>stcules</td>\n",
              "      <td>Foreign / Export Stout</td>\n",
              "      <td>3.0</td>\n",
              "      <td>3.0</td>\n",
              "      <td>Black Horse Black Beer</td>\n",
              "      <td>6.5</td>\n",
              "      <td>48215</td>\n",
              "    </tr>\n",
              "    <tr>\n",
              "      <th>3</th>\n",
              "      <td>10325</td>\n",
              "      <td>Vecchio Birraio</td>\n",
              "      <td>1234725145</td>\n",
              "      <td>3.0</td>\n",
              "      <td>3.0</td>\n",
              "      <td>3.5</td>\n",
              "      <td>stcules</td>\n",
              "      <td>German Pilsener</td>\n",
              "      <td>2.5</td>\n",
              "      <td>3.0</td>\n",
              "      <td>Sausa Pils</td>\n",
              "      <td>5.0</td>\n",
              "      <td>47969</td>\n",
              "    </tr>\n",
              "    <tr>\n",
              "      <th>4</th>\n",
              "      <td>1075</td>\n",
              "      <td>Caldera Brewing Company</td>\n",
              "      <td>1293735206</td>\n",
              "      <td>4.0</td>\n",
              "      <td>4.5</td>\n",
              "      <td>4.0</td>\n",
              "      <td>johnmichaelsen</td>\n",
              "      <td>American Double / Imperial IPA</td>\n",
              "      <td>4.0</td>\n",
              "      <td>4.5</td>\n",
              "      <td>Cauldron DIPA</td>\n",
              "      <td>7.7</td>\n",
              "      <td>64883</td>\n",
              "    </tr>\n",
              "  </tbody>\n",
              "</table>\n",
              "</div>\n",
              "    <div class=\"colab-df-buttons\">\n",
              "\n",
              "  <div class=\"colab-df-container\">\n",
              "    <button class=\"colab-df-convert\" onclick=\"convertToInteractive('df-3747978d-1f29-4326-b2e6-00200bf9d08d')\"\n",
              "            title=\"Convert this dataframe to an interactive table.\"\n",
              "            style=\"display:none;\">\n",
              "\n",
              "  <svg xmlns=\"http://www.w3.org/2000/svg\" height=\"24px\" viewBox=\"0 -960 960 960\">\n",
              "    <path d=\"M120-120v-720h720v720H120Zm60-500h600v-160H180v160Zm220 220h160v-160H400v160Zm0 220h160v-160H400v160ZM180-400h160v-160H180v160Zm440 0h160v-160H620v160ZM180-180h160v-160H180v160Zm440 0h160v-160H620v160Z\"/>\n",
              "  </svg>\n",
              "    </button>\n",
              "\n",
              "  <style>\n",
              "    .colab-df-container {\n",
              "      display:flex;\n",
              "      gap: 12px;\n",
              "    }\n",
              "\n",
              "    .colab-df-convert {\n",
              "      background-color: #E8F0FE;\n",
              "      border: none;\n",
              "      border-radius: 50%;\n",
              "      cursor: pointer;\n",
              "      display: none;\n",
              "      fill: #1967D2;\n",
              "      height: 32px;\n",
              "      padding: 0 0 0 0;\n",
              "      width: 32px;\n",
              "    }\n",
              "\n",
              "    .colab-df-convert:hover {\n",
              "      background-color: #E2EBFA;\n",
              "      box-shadow: 0px 1px 2px rgba(60, 64, 67, 0.3), 0px 1px 3px 1px rgba(60, 64, 67, 0.15);\n",
              "      fill: #174EA6;\n",
              "    }\n",
              "\n",
              "    .colab-df-buttons div {\n",
              "      margin-bottom: 4px;\n",
              "    }\n",
              "\n",
              "    [theme=dark] .colab-df-convert {\n",
              "      background-color: #3B4455;\n",
              "      fill: #D2E3FC;\n",
              "    }\n",
              "\n",
              "    [theme=dark] .colab-df-convert:hover {\n",
              "      background-color: #434B5C;\n",
              "      box-shadow: 0px 1px 3px 1px rgba(0, 0, 0, 0.15);\n",
              "      filter: drop-shadow(0px 1px 2px rgba(0, 0, 0, 0.3));\n",
              "      fill: #FFFFFF;\n",
              "    }\n",
              "  </style>\n",
              "\n",
              "    <script>\n",
              "      const buttonEl =\n",
              "        document.querySelector('#df-3747978d-1f29-4326-b2e6-00200bf9d08d button.colab-df-convert');\n",
              "      buttonEl.style.display =\n",
              "        google.colab.kernel.accessAllowed ? 'block' : 'none';\n",
              "\n",
              "      async function convertToInteractive(key) {\n",
              "        const element = document.querySelector('#df-3747978d-1f29-4326-b2e6-00200bf9d08d');\n",
              "        const dataTable =\n",
              "          await google.colab.kernel.invokeFunction('convertToInteractive',\n",
              "                                                    [key], {});\n",
              "        if (!dataTable) return;\n",
              "\n",
              "        const docLinkHtml = 'Like what you see? Visit the ' +\n",
              "          '<a target=\"_blank\" href=https://colab.research.google.com/notebooks/data_table.ipynb>data table notebook</a>'\n",
              "          + ' to learn more about interactive tables.';\n",
              "        element.innerHTML = '';\n",
              "        dataTable['output_type'] = 'display_data';\n",
              "        await google.colab.output.renderOutput(dataTable, element);\n",
              "        const docLink = document.createElement('div');\n",
              "        docLink.innerHTML = docLinkHtml;\n",
              "        element.appendChild(docLink);\n",
              "      }\n",
              "    </script>\n",
              "  </div>\n",
              "\n",
              "\n",
              "<div id=\"df-9d08b1bd-5d99-44fe-a757-37c2e1c364c7\">\n",
              "  <button class=\"colab-df-quickchart\" onclick=\"quickchart('df-9d08b1bd-5d99-44fe-a757-37c2e1c364c7')\"\n",
              "            title=\"Suggest charts\"\n",
              "            style=\"display:none;\">\n",
              "\n",
              "<svg xmlns=\"http://www.w3.org/2000/svg\" height=\"24px\"viewBox=\"0 0 24 24\"\n",
              "     width=\"24px\">\n",
              "    <g>\n",
              "        <path d=\"M19 3H5c-1.1 0-2 .9-2 2v14c0 1.1.9 2 2 2h14c1.1 0 2-.9 2-2V5c0-1.1-.9-2-2-2zM9 17H7v-7h2v7zm4 0h-2V7h2v10zm4 0h-2v-4h2v4z\"/>\n",
              "    </g>\n",
              "</svg>\n",
              "  </button>\n",
              "\n",
              "<style>\n",
              "  .colab-df-quickchart {\n",
              "      --bg-color: #E8F0FE;\n",
              "      --fill-color: #1967D2;\n",
              "      --hover-bg-color: #E2EBFA;\n",
              "      --hover-fill-color: #174EA6;\n",
              "      --disabled-fill-color: #AAA;\n",
              "      --disabled-bg-color: #DDD;\n",
              "  }\n",
              "\n",
              "  [theme=dark] .colab-df-quickchart {\n",
              "      --bg-color: #3B4455;\n",
              "      --fill-color: #D2E3FC;\n",
              "      --hover-bg-color: #434B5C;\n",
              "      --hover-fill-color: #FFFFFF;\n",
              "      --disabled-bg-color: #3B4455;\n",
              "      --disabled-fill-color: #666;\n",
              "  }\n",
              "\n",
              "  .colab-df-quickchart {\n",
              "    background-color: var(--bg-color);\n",
              "    border: none;\n",
              "    border-radius: 50%;\n",
              "    cursor: pointer;\n",
              "    display: none;\n",
              "    fill: var(--fill-color);\n",
              "    height: 32px;\n",
              "    padding: 0;\n",
              "    width: 32px;\n",
              "  }\n",
              "\n",
              "  .colab-df-quickchart:hover {\n",
              "    background-color: var(--hover-bg-color);\n",
              "    box-shadow: 0 1px 2px rgba(60, 64, 67, 0.3), 0 1px 3px 1px rgba(60, 64, 67, 0.15);\n",
              "    fill: var(--button-hover-fill-color);\n",
              "  }\n",
              "\n",
              "  .colab-df-quickchart-complete:disabled,\n",
              "  .colab-df-quickchart-complete:disabled:hover {\n",
              "    background-color: var(--disabled-bg-color);\n",
              "    fill: var(--disabled-fill-color);\n",
              "    box-shadow: none;\n",
              "  }\n",
              "\n",
              "  .colab-df-spinner {\n",
              "    border: 2px solid var(--fill-color);\n",
              "    border-color: transparent;\n",
              "    border-bottom-color: var(--fill-color);\n",
              "    animation:\n",
              "      spin 1s steps(1) infinite;\n",
              "  }\n",
              "\n",
              "  @keyframes spin {\n",
              "    0% {\n",
              "      border-color: transparent;\n",
              "      border-bottom-color: var(--fill-color);\n",
              "      border-left-color: var(--fill-color);\n",
              "    }\n",
              "    20% {\n",
              "      border-color: transparent;\n",
              "      border-left-color: var(--fill-color);\n",
              "      border-top-color: var(--fill-color);\n",
              "    }\n",
              "    30% {\n",
              "      border-color: transparent;\n",
              "      border-left-color: var(--fill-color);\n",
              "      border-top-color: var(--fill-color);\n",
              "      border-right-color: var(--fill-color);\n",
              "    }\n",
              "    40% {\n",
              "      border-color: transparent;\n",
              "      border-right-color: var(--fill-color);\n",
              "      border-top-color: var(--fill-color);\n",
              "    }\n",
              "    60% {\n",
              "      border-color: transparent;\n",
              "      border-right-color: var(--fill-color);\n",
              "    }\n",
              "    80% {\n",
              "      border-color: transparent;\n",
              "      border-right-color: var(--fill-color);\n",
              "      border-bottom-color: var(--fill-color);\n",
              "    }\n",
              "    90% {\n",
              "      border-color: transparent;\n",
              "      border-bottom-color: var(--fill-color);\n",
              "    }\n",
              "  }\n",
              "</style>\n",
              "\n",
              "  <script>\n",
              "    async function quickchart(key) {\n",
              "      const quickchartButtonEl =\n",
              "        document.querySelector('#' + key + ' button');\n",
              "      quickchartButtonEl.disabled = true;  // To prevent multiple clicks.\n",
              "      quickchartButtonEl.classList.add('colab-df-spinner');\n",
              "      try {\n",
              "        const charts = await google.colab.kernel.invokeFunction(\n",
              "            'suggestCharts', [key], {});\n",
              "      } catch (error) {\n",
              "        console.error('Error during call to suggestCharts:', error);\n",
              "      }\n",
              "      quickchartButtonEl.classList.remove('colab-df-spinner');\n",
              "      quickchartButtonEl.classList.add('colab-df-quickchart-complete');\n",
              "    }\n",
              "    (() => {\n",
              "      let quickchartButtonEl =\n",
              "        document.querySelector('#df-9d08b1bd-5d99-44fe-a757-37c2e1c364c7 button');\n",
              "      quickchartButtonEl.style.display =\n",
              "        google.colab.kernel.accessAllowed ? 'block' : 'none';\n",
              "    })();\n",
              "  </script>\n",
              "</div>\n",
              "\n",
              "    </div>\n",
              "  </div>\n"
            ],
            "text/plain": [
              "   brewery_id             brewery_name  review_time  review_overall  \\\n",
              "0       10325          Vecchio Birraio   1234817823             1.5   \n",
              "1       10325          Vecchio Birraio   1235915097             3.0   \n",
              "2       10325          Vecchio Birraio   1235916604             3.0   \n",
              "3       10325          Vecchio Birraio   1234725145             3.0   \n",
              "4        1075  Caldera Brewing Company   1293735206             4.0   \n",
              "\n",
              "   review_aroma  review_appearance review_profilename  \\\n",
              "0           2.0                2.5            stcules   \n",
              "1           2.5                3.0            stcules   \n",
              "2           2.5                3.0            stcules   \n",
              "3           3.0                3.5            stcules   \n",
              "4           4.5                4.0     johnmichaelsen   \n",
              "\n",
              "                       beer_style  review_palate  review_taste  \\\n",
              "0                      Hefeweizen            1.5           1.5   \n",
              "1              English Strong Ale            3.0           3.0   \n",
              "2          Foreign / Export Stout            3.0           3.0   \n",
              "3                 German Pilsener            2.5           3.0   \n",
              "4  American Double / Imperial IPA            4.0           4.5   \n",
              "\n",
              "                beer_name  beer_abv  beer_beerid  \n",
              "0            Sausa Weizen       5.0        47986  \n",
              "1                Red Moon       6.2        48213  \n",
              "2  Black Horse Black Beer       6.5        48215  \n",
              "3              Sausa Pils       5.0        47969  \n",
              "4           Cauldron DIPA       7.7        64883  "
            ]
          },
          "execution_count": 11,
          "metadata": {},
          "output_type": "execute_result"
        }
      ],
      "source": [
        "df.head()"
      ]
    },
    {
      "cell_type": "code",
      "execution_count": 3,
      "metadata": {
        "colab": {
          "base_uri": "https://localhost:8080/"
        },
        "id": "j1vY9LekKui4",
        "outputId": "c939d105-39a3-4ae5-fe87-760257c7863e"
      },
      "outputs": [
        {
          "data": {
            "text/plain": [
              "beer_beerid\n",
              "2093     3290\n",
              "412      3111\n",
              "1904     3000\n",
              "1093     2728\n",
              "92       2704\n",
              "         ... \n",
              "12708       1\n",
              "70915       1\n",
              "21441       1\n",
              "62863       1\n",
              "47986       1\n",
              "Name: count, Length: 66055, dtype: int64"
            ]
          },
          "execution_count": 3,
          "metadata": {},
          "output_type": "execute_result"
        }
      ],
      "source": [
        "df.beer_beerid.value_counts()"
      ]
    },
    {
      "cell_type": "code",
      "execution_count": 4,
      "metadata": {
        "colab": {
          "base_uri": "https://localhost:8080/"
        },
        "id": "0GSazRPxYX35",
        "outputId": "3aea6468-89f2-4198-ac30-7c9723c911e7"
      },
      "outputs": [
        {
          "data": {
            "text/plain": [
              "review_profilename\n",
              "northyorksammy     5817\n",
              "BuckeyeNation      4661\n",
              "mikesgroove        4617\n",
              "Thorpe429          3518\n",
              "womencantsail      3497\n",
              "                   ... \n",
              "fnong2                1\n",
              "drewzline             1\n",
              "amandacrane           1\n",
              "mymasterpiece75       1\n",
              "joeebbs               1\n",
              "Name: count, Length: 33387, dtype: int64"
            ]
          },
          "execution_count": 4,
          "metadata": {},
          "output_type": "execute_result"
        }
      ],
      "source": [
        "df.review_profilename.value_counts()"
      ]
    },
    {
      "cell_type": "code",
      "execution_count": 5,
      "metadata": {
        "colab": {
          "base_uri": "https://localhost:8080/"
        },
        "id": "iLz1SNwwHbQ3",
        "outputId": "58a7fbf2-8c74-4b42-d8e4-7d33034ea567"
      },
      "outputs": [
        {
          "data": {
            "text/plain": [
              "review_overall\n",
              "4.0    582764\n",
              "4.5    324385\n",
              "3.5    301817\n",
              "3.0    165644\n",
              "5.0     91320\n",
              "2.5     58523\n",
              "2.0     38225\n",
              "1.5     12975\n",
              "1.0     10954\n",
              "0.0         7\n",
              "Name: count, dtype: int64"
            ]
          },
          "execution_count": 5,
          "metadata": {},
          "output_type": "execute_result"
        }
      ],
      "source": [
        "df['review_overall'].value_counts()"
      ]
    },
    {
      "cell_type": "code",
      "execution_count": 6,
      "metadata": {
        "id": "a8_tq-nrJZfp"
      },
      "outputs": [],
      "source": [
        "ndf = df[['review_profilename', 'beer_beerid', 'review_overall']]"
      ]
    },
    {
      "cell_type": "code",
      "execution_count": 7,
      "metadata": {
        "colab": {
          "base_uri": "https://localhost:8080/"
        },
        "id": "19TcfdVuJpke",
        "outputId": "c094907e-fcbc-43d2-96a8-f763768ef6da"
      },
      "outputs": [
        {
          "name": "stdout",
          "output_type": "stream",
          "text": [
            "Missing values before handling:\n",
            "review_profilename    348\n",
            "beer_beerid             0\n",
            "review_overall          0\n",
            "dtype: int64\n",
            "Missing values after handling:\n",
            "review_profilename    0\n",
            "beer_beerid           0\n",
            "review_overall        0\n",
            "dtype: int64\n",
            "  review_profilename  beer_beerid  review_overall\n",
            "0            stcules        47986             1.5\n",
            "1            stcules        48213             3.0\n",
            "2            stcules        48215             3.0\n",
            "3            stcules        47969             3.0\n",
            "4     johnmichaelsen        64883             4.0\n"
          ]
        }
      ],
      "source": [
        "# Check for and handle missing values\n",
        "print(\"Missing values before handling:\")\n",
        "print(ndf.isnull().sum())\n",
        "\n",
        "# Optionally handle missing values, if any\n",
        "ndf = ndf.dropna()  # This line removes any rows with missing data\n",
        "\n",
        "print(\"Missing values after handling:\")\n",
        "print(ndf.isnull().sum())\n",
        "\n",
        "# The dataframe is now ready for use in an SVD model\n",
        "print(ndf.head())"
      ]
    },
    {
      "cell_type": "code",
      "execution_count": 15,
      "metadata": {
        "colab": {
          "base_uri": "https://localhost:8080/"
        },
        "id": "vgA5WFKpK8Li",
        "outputId": "302bc193-de9a-4d21-9a05-b916eb18aaaf"
      },
      "outputs": [
        {
          "name": "stdout",
          "output_type": "stream",
          "text": [
            "Collecting scikit-surprise\n",
            "  Downloading scikit-surprise-1.1.3.tar.gz (771 kB)\n",
            "\u001b[2K     \u001b[90m━━━━━━━━━━━━━━━━━━━━━━━━━━━━━━━━━━━━━━━━\u001b[0m \u001b[32m772.0/772.0 kB\u001b[0m \u001b[31m5.1 MB/s\u001b[0m eta \u001b[36m0:00:00\u001b[0m\n",
            "\u001b[?25h  Preparing metadata (setup.py) ... \u001b[?25l\u001b[?25hdone\n",
            "Requirement already satisfied: joblib>=1.0.0 in /usr/local/lib/python3.10/dist-packages (from scikit-surprise) (1.4.0)\n",
            "Requirement already satisfied: numpy>=1.17.3 in /usr/local/lib/python3.10/dist-packages (from scikit-surprise) (1.25.2)\n",
            "Requirement already satisfied: scipy>=1.3.2 in /usr/local/lib/python3.10/dist-packages (from scikit-surprise) (1.11.4)\n",
            "Building wheels for collected packages: scikit-surprise\n",
            "  Building wheel for scikit-surprise (setup.py) ... \u001b[?25l\u001b[?25hdone\n",
            "  Created wheel for scikit-surprise: filename=scikit_surprise-1.1.3-cp310-cp310-linux_x86_64.whl size=3162969 sha256=5958ad0df4abc0ebfe358bb9fbfe712bb3afc46ad7403461b4446c733d7a1822\n",
            "  Stored in directory: /root/.cache/pip/wheels/a5/ca/a8/4e28def53797fdc4363ca4af740db15a9c2f1595ebc51fb445\n",
            "Successfully built scikit-surprise\n",
            "Installing collected packages: scikit-surprise\n",
            "Successfully installed scikit-surprise-1.1.3\n"
          ]
        }
      ],
      "source": [
        "!pip install scikit-surprise"
      ]
    },
    {
      "cell_type": "code",
      "execution_count": 10,
      "metadata": {
        "colab": {
          "base_uri": "https://localhost:8080/"
        },
        "id": "vXbaPVfXJ73u",
        "outputId": "e4072e29-a585-458d-ce01-0fb7e5cb735c"
      },
      "outputs": [
        {
          "name": "stdout",
          "output_type": "stream",
          "text": [
            "RMSE: 0.6103\n",
            "Evaluating RMSE, MAE of algorithm SVD on 5 split(s).\n",
            "\n",
            "                  Fold 1  Fold 2  Fold 3  Fold 4  Fold 5  Mean    Std     \n",
            "RMSE (testset)    0.6054  0.6063  0.6109  0.6090  0.6081  0.6079  0.0020  \n",
            "MAE (testset)     0.4535  0.4537  0.4562  0.4556  0.4549  0.4548  0.0010  \n",
            "Fit time          12.77   12.09   11.57   11.23   11.82   11.89   0.52    \n",
            "Test time         1.52    1.43    1.41    1.30    1.33    1.40    0.08    \n",
            "Cross validation: {'test_rmse': array([0.60537901, 0.6063035 , 0.61088927, 0.60899353, 0.60807135]), 'test_mae': array([0.45352628, 0.45370612, 0.45621524, 0.45556198, 0.4549185 ]), 'fit_time': (12.771265029907227, 12.085823059082031, 11.567872047424316, 11.230206966400146, 11.816775798797607), 'test_time': (1.515260934829712, 1.4327950477600098, 1.4052860736846924, 1.3047490119934082, 1.33101487159729)}\n"
          ]
        }
      ],
      "source": [
        "import pandas as pd\n",
        "from surprise import SVD, Dataset, Reader\n",
        "from surprise.model_selection import train_test_split, cross_validate\n",
        "from surprise import accuracy\n",
        "\n",
        "# Create a dictionary mapping beer IDs to names\n",
        "beer_id_to_name = pd.Series(df.beer_name.values,index=df.beer_beerid).to_dict()\n",
        "\n",
        "# Prepare the DataFrame for Surprise\n",
        "reader = Reader(rating_scale=(0, 5))\n",
        "data = Dataset.load_from_df(ndf[['review_profilename', 'beer_beerid', 'review_overall']], reader)\n",
        "\n",
        "# Split the data into training and testing sets\n",
        "trainset, testset = train_test_split(data, test_size=0.25, random_state=42)\n",
        "\n",
        "# Train the SVD model\n",
        "model = SVD()\n",
        "model.fit(trainset)\n",
        "predictions = model.test(testset)\n",
        "\n",
        "# Calculate and print RMSE\n",
        "accuracy.rmse(predictions)\n",
        "\n",
        "# Cross-validation\n",
        "results = cross_validate(model, data, measures=['RMSE', 'MAE'], cv=5, verbose=True)\n",
        "print(f\"Cross validation: {results}\")"
      ]
    },
    {
      "cell_type": "code",
      "execution_count": 11,
      "metadata": {
        "colab": {
          "base_uri": "https://localhost:8080/"
        },
        "id": "-NUOZjhoPjvz",
        "outputId": "c17b9d5a-582a-44ce-c017-24cce3fec073"
      },
      "outputs": [
        {
          "name": "stdout",
          "output_type": "stream",
          "text": [
            "Predicted rating for Sausa Weizen (ID: 47986): 2.83\n",
            "Predicted rating for Cauldron DIPA (ID: 64883): 3.12\n"
          ]
        }
      ],
      "source": [
        "user_to_predict = 'stcules'\n",
        "beers_to_predict = [47986, 64883]  # Example beer IDs to predict ratings for\n",
        "\n",
        "for beer_id in beers_to_predict:\n",
        "    prediction = model.predict(user_to_predict, beer_id)\n",
        "    print(f\"Predicted rating for {beer_id_to_name[beer_id]} (ID: {beer_id}): {prediction.est:.2f}\")"
      ]
    },
    {
      "cell_type": "code",
      "execution_count": 14,
      "metadata": {},
      "outputs": [
        {
          "name": "stdout",
          "output_type": "stream",
          "text": [
            "   beer_id                                       beer_name  predicted_rating\n",
            "0    44910                                     Dirty Horse          4.827469\n",
            "1    58610                                  Hoppy Birthday          4.817829\n",
            "2    68548              Armand'4 Oude Geuze Lente (Spring)          4.806602\n",
            "3    23413  Geuze Cuvée J&J (Joost En Jessie) Blauw (Blue)          4.777379\n",
            "4    36316                         Cantillon Blåbær Lambik          4.736787\n",
            "5    70356              Armand'4 Oude Geuze Zomer (Summer)          4.734385\n",
            "6    47668       Imperial Eclipse Stout - Pappy Van Winkle          4.731553\n",
            "7    44112                                      Yellow Bus          4.703693\n",
            "8    56082                                      Citra DIPA          4.691855\n",
            "9    63649                                     Rare D.O.S.          4.672207\n"
          ]
        }
      ],
      "source": [
        "# Get the top N recommendations from a username using model.predict\n",
        "\n",
        "from collections import defaultdict\n",
        "\n",
        "def get_top_n_recommendations_with_predicted_rating(username, n=10):\n",
        "    # First, get all beer IDs that the user has not rated\n",
        "    rated_beer_ids = ndf[ndf.review_profilename == username].beer_beerid.unique()\n",
        "    all_beer_ids = ndf.beer_beerid.unique()\n",
        "    unrated_beer_ids = list(set(all_beer_ids) - set(rated_beer_ids))\n",
        "\n",
        "    # Next, predict the rating for each of these beers\n",
        "    predictions = [model.predict(username, beer_id) for beer_id in unrated_beer_ids]\n",
        "\n",
        "    # Get the top N predictions\n",
        "    top_predictions = sorted(predictions, key=lambda x: x.est, reverse=True)[:n]\n",
        "\n",
        "    # Return the top N recommendations\n",
        "    recommendations = defaultdict(list)\n",
        "    for prediction in top_predictions:\n",
        "        recommendations['beer_id'].append(prediction.iid)\n",
        "        recommendations['beer_name'].append(beer_id_to_name[prediction.iid])\n",
        "        recommendations['predicted_rating'].append(prediction.est)\n",
        "\n",
        "    return pd.DataFrame(recommendations)\n",
        "\n",
        "# Get the top 10 recommendations for the user 'stcules'\n",
        "print(get_top_n_recommendations_with_predicted_rating('brentk56', n=10))\n",
        "\n",
        "\n",
        "\n",
        "\n",
        "\n"
      ]
    },
    {
      "cell_type": "code",
      "execution_count": 25,
      "metadata": {},
      "outputs": [
        {
          "name": "stdout",
          "output_type": "stream",
          "text": [
            "   beer_id                                beer_name  predicted_rating\n",
            "0    36316                  Cantillon Blåbær Lambik          4.736787\n",
            "1    56082                               Citra DIPA          4.691855\n",
            "2    41928  Deviation - Bottleworks 9th Anniversary          4.645943\n",
            "3    51116                          Duck Duck Gooze          4.615239\n",
            "4    16814                             Heady Topper          4.602751\n",
            "5    42349              Vanilla Bean Aged Dark Lord          4.586296\n",
            "6    44942                 Unplugged Bohemian Lager          4.583295\n",
            "7    62172                                  Ephraim          4.568585\n",
            "8    64228                              Zombie Dust          4.567147\n",
            "9    34313  Kuhnhenn Bourbon Barrel Fourth Dementia          4.528902\n"
          ]
        }
      ],
      "source": [
        "# new function that returns the top n recommendations for a user but only for beers that have not been rated by the user and have at least a certain number of reviews\n",
        "\n",
        "def get_top_n_recommendations_with_predicted_rating_and_min_reviews(username, n=10, min_reviews=10):\n",
        "    # First, get all beer IDs that the user has not rated\n",
        "    rated_beer_ids = ndf[ndf.review_profilename == username].beer_beerid.unique()\n",
        "    all_beer_ids = ndf.beer_beerid.unique()\n",
        "    unrated_beer_ids = list(set(all_beer_ids) - set(rated_beer_ids))\n",
        "\n",
        "    # Next, predict the rating for each of these beers\n",
        "    predictions = [model.predict(username, beer_id) for beer_id in unrated_beer_ids]\n",
        "\n",
        "    # Get the top N predictions\n",
        "    top_predictions = sorted(predictions, key=lambda x: x.est, reverse=True)\n",
        "\n",
        "    # Return the top N recommendations\n",
        "    recommendations = defaultdict(list)\n",
        "    for prediction in top_predictions:\n",
        "        # Check if the beer has at least min_reviews reviews\n",
        "        if ndf[ndf.beer_beerid == prediction.iid].shape[0] >= min_reviews:\n",
        "            recommendations['beer_id'].append(prediction.iid)\n",
        "            recommendations['beer_name'].append(beer_id_to_name[prediction.iid])\n",
        "            recommendations['predicted_rating'].append(prediction.est)\n",
        "        if len(recommendations['beer_id']) == n:\n",
        "            break\n",
        "\n",
        "    return pd.DataFrame(recommendations)\n",
        "\n",
        "# Get the top 10 recommendations for the user 'stcules' with a minimum of 10 reviews per beer\n",
        "print(get_top_n_recommendations_with_predicted_rating_and_min_reviews('brentk56', n=10, min_reviews=100))\n"
      ]
    },
    {
      "cell_type": "code",
      "execution_count": 27,
      "metadata": {},
      "outputs": [
        {
          "name": "stdout",
          "output_type": "stream",
          "text": [
            "   beer_id                                beer_name  predicted_rating\n",
            "0    36316                  Cantillon Blåbær Lambik          4.736787\n",
            "1    56082                               Citra DIPA          4.691855\n",
            "2    41928  Deviation - Bottleworks 9th Anniversary          4.645943\n",
            "3    51116                          Duck Duck Gooze          4.615239\n",
            "4    16814                             Heady Topper          4.602751\n",
            "5    42349              Vanilla Bean Aged Dark Lord          4.586296\n",
            "6    44942                 Unplugged Bohemian Lager          4.583295\n",
            "7    62172                                  Ephraim          4.568585\n",
            "8    64228                              Zombie Dust          4.567147\n",
            "9    34313  Kuhnhenn Bourbon Barrel Fourth Dementia          4.528902\n"
          ]
        }
      ],
      "source": [
        "# save the model\n",
        "import pickle\n",
        "filename = '../../models/finalized_model.sav'\n",
        "pickle.dump(model, open(filename, 'wb'))\n",
        "\n",
        "# load the model\n",
        "loaded_model = pickle.load(open(filename, 'rb'))\n",
        "\n",
        "# Get the top 10 recommendations for the user 'stcules' with a minimum of 10 reviews per beer\n",
        "\n",
        "def get_top_n_recommendations_with_predicted_rating_and_min_reviews_and_model(username,model,ndf, n=10, min_reviews=10, ):\n",
        "    # First, get all beer IDs that the user has not rated\n",
        "    rated_beer_ids = ndf[ndf.review_profilename == username].beer_beerid.unique()\n",
        "    all_beer_ids = ndf.beer_beerid.unique()\n",
        "    unrated_beer_ids = list(set(all_beer_ids) - set(rated_beer_ids))\n",
        "\n",
        "    # Next, predict the rating for each of these beers\n",
        "    predictions = [model.predict(username, beer_id) for beer_id in unrated_beer_ids]\n",
        "\n",
        "    # Get the top N predictions\n",
        "    top_predictions = sorted(predictions, key=lambda x: x.est, reverse=True)\n",
        "\n",
        "    # Return the top N recommendations\n",
        "    recommendations = defaultdict(list)\n",
        "    for prediction in top_predictions:\n",
        "        # Check if the beer has at least min_reviews reviews\n",
        "        if ndf[ndf.beer_beerid == prediction.iid].shape[0] >= min_reviews:\n",
        "            recommendations['beer_id'].append(prediction.iid)\n",
        "            recommendations['beer_name'].append(beer_id_to_name[prediction.iid])\n",
        "            recommendations['predicted_rating'].append(prediction.est)\n",
        "        if len(recommendations['beer_id']) == n:\n",
        "            break\n",
        "\n",
        "    return pd.DataFrame(recommendations)\n",
        "\n",
        "# Get the top 10 recommendations for the user 'stcules' with a minimum of 10 reviews per beer\n",
        "print(get_top_n_recommendations_with_predicted_rating_and_min_reviews_and_model('brentk56', n=10, min_reviews=100, model=loaded_model, ndf=ndf))\n",
        "\n",
        "\n"
      ]
    }
  ],
  "metadata": {
    "colab": {
      "authorship_tag": "ABX9TyMXa5KXjsDSmPwX9FgunMKd",
      "include_colab_link": true,
      "provenance": []
    },
    "kernelspec": {
      "display_name": "Python 3",
      "name": "python3"
    },
    "language_info": {
      "codemirror_mode": {
        "name": "ipython",
        "version": 3
      },
      "file_extension": ".py",
      "mimetype": "text/x-python",
      "name": "python",
      "nbconvert_exporter": "python",
      "pygments_lexer": "ipython3",
      "version": "3.9.6"
    }
  },
  "nbformat": 4,
  "nbformat_minor": 0
}
