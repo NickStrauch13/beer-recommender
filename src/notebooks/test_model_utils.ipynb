{
 "cells": [
  {
   "cell_type": "code",
   "execution_count": 1,
   "metadata": {},
   "outputs": [],
   "source": [
    "import pandas as pd\n",
    "df = pd.read_csv('../../data/beer_reviews.csv')\n",
    "\n",
    "ndf = df[['review_profilename', 'beer_beerid', 'review_overall']]\n",
    "ndf = ndf.dropna()\n"
   ]
  },
  {
   "cell_type": "code",
   "execution_count": 2,
   "metadata": {},
   "outputs": [
    {
     "name": "stdout",
     "output_type": "stream",
     "text": [
      "   beer_id                                       beer_name  predicted_rating\n",
      "0    44910                                     Dirty Horse          4.827469\n",
      "1    58610                                  Hoppy Birthday          4.817829\n",
      "2    68548              Armand'4 Oude Geuze Lente (Spring)          4.806602\n",
      "3    23413  Geuze Cuvée J&J (Joost En Jessie) Blauw (Blue)          4.777379\n",
      "4    36316                         Cantillon Blåbær Lambik          4.736787\n",
      "5    70356              Armand'4 Oude Geuze Zomer (Summer)          4.734385\n",
      "6    47668       Imperial Eclipse Stout - Pappy Van Winkle          4.731553\n",
      "7    44112                                      Yellow Bus          4.703693\n",
      "8    56082                                      Citra DIPA          4.691855\n",
      "9    63649                                     Rare D.O.S.          4.672207\n"
     ]
    },
    {
     "name": "stderr",
     "output_type": "stream",
     "text": [
      "2024-04-14 19:38:57.369161: I metal_plugin/src/device/metal_device.cc:1154] Metal device set to: Apple M1 Pro\n",
      "2024-04-14 19:38:57.369189: I metal_plugin/src/device/metal_device.cc:296] systemMemory: 16.00 GB\n",
      "2024-04-14 19:38:57.369192: I metal_plugin/src/device/metal_device.cc:313] maxCacheSize: 5.33 GB\n",
      "2024-04-14 19:38:57.369220: I tensorflow/core/common_runtime/pluggable_device/pluggable_device_factory.cc:306] Could not identify NUMA node of platform GPU ID 0, defaulting to 0. Your kernel may not have been built with NUMA support.\n",
      "2024-04-14 19:38:57.369236: I tensorflow/core/common_runtime/pluggable_device/pluggable_device_factory.cc:272] Created TensorFlow device (/job:localhost/replica:0/task:0/device:GPU:0 with 0 MB memory) -> physical PluggableDevice (device: 0, name: METAL, pci bus id: <undefined>)\n",
      "WARNING:absl:At this time, the v2.11+ optimizer `tf.keras.optimizers.Adam` runs slowly on M1/M2 Macs, please use the legacy Keras optimizer instead, located at `tf.keras.optimizers.legacy.Adam`.\n"
     ]
    },
    {
     "name": "stdout",
     "output_type": "stream",
     "text": [
      " 20/349 [>.............................] - ETA: 1s"
     ]
    },
    {
     "name": "stderr",
     "output_type": "stream",
     "text": [
      "2024-04-14 19:38:59.036197: I tensorflow/core/grappler/optimizers/custom_graph_optimizer_registry.cc:117] Plugin optimizer for device_type GPU is enabled.\n"
     ]
    },
    {
     "name": "stdout",
     "output_type": "stream",
     "text": [
      "349/349 [==============================] - 1s 3ms/step\n",
      "   beer_id                                       beer_name  predicted_rating\n",
      "0    68548              Armand'4 Oude Geuze Lente (Spring)          4.698753\n",
      "1    44910                                     Dirty Horse          4.684250\n",
      "2    56082                                      Citra DIPA          4.617602\n",
      "3    23413  Geuze Cuvée J&J (Joost En Jessie) Blauw (Blue)          4.615805\n",
      "4    16814                                    Heady Topper          4.587422\n"
     ]
    }
   ],
   "source": [
    "# import get_top_n_recommendations_for_SVD from the file ../scrips/model_utils.py\n",
    "import sys\n",
    "sys.path.insert(0, '../scripts')\n",
    "from model_utils import get_top_n_recommendations_for_SVD, get_top_n_recommendations_NCF \n",
    "\n",
    "top_n_recommendations = get_top_n_recommendations_for_SVD(ndf=ndf, username='brentk56', )\n",
    "print(top_n_recommendations)\n",
    "\n",
    "top_n = get_top_n_recommendations_NCF(ndf=ndf, username='brentk56', n=5)\n",
    "\n",
    "print(top_n)\n"
   ]
  }
 ],
 "metadata": {
  "kernelspec": {
   "display_name": "Python 3",
   "language": "python",
   "name": "python3"
  },
  "language_info": {
   "codemirror_mode": {
    "name": "ipython",
    "version": 3
   },
   "file_extension": ".py",
   "mimetype": "text/x-python",
   "name": "python",
   "nbconvert_exporter": "python",
   "pygments_lexer": "ipython3",
   "version": "3.9.6"
  },
  "orig_nbformat": 4
 },
 "nbformat": 4,
 "nbformat_minor": 2
}
